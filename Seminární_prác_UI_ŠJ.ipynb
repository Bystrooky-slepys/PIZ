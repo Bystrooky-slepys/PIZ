{
  "nbformat": 4,
  "nbformat_minor": 0,
  "metadata": {
    "colab": {
      "provenance": [],
      "authorship_tag": "ABX9TyNMDTS96zoVaXSJlKjZP4GR",
      "include_colab_link": true
    },
    "kernelspec": {
      "name": "python3",
      "display_name": "Python 3"
    },
    "language_info": {
      "name": "python"
    }
  },
  "cells": [
    {
      "cell_type": "markdown",
      "metadata": {
        "id": "view-in-github",
        "colab_type": "text"
      },
      "source": [
        "<a href=\"https://colab.research.google.com/github/Bystrooky-slepys/PIZ/blob/master/Semin%C3%A1rn%C3%AD_pr%C3%A1c_UI_%C5%A0J.ipynb\" target=\"_parent\"><img src=\"https://colab.research.google.com/assets/colab-badge.svg\" alt=\"Open In Colab\"/></a>"
      ]
    },
    {
      "cell_type": "markdown",
      "source": [
        "# Generování datové sady"
      ],
      "metadata": {
        "id": "jKhjUyhpKuU7"
      }
    },
    {
      "cell_type": "code",
      "source": [
        "import numpy as np\n",
        "import matplotlib.pyplot as plt\n",
        "from PIL import Image, ImageDraw\n",
        "from sklearn.model_selection import train_test_split\n",
        "\n",
        "def generate_shape(shape, size=(28,28)):\n",
        "    img = Image.new('L', size, color=0)\n",
        "    draw = ImageDraw.Draw(img)\n",
        "    if shape == 'circle':\n",
        "        draw.ellipse((4,4,24,24), outline=255, fill=255)\n",
        "    elif shape == 'square':\n",
        "        draw.rectangle((4,4,24,24), outline=255, fill=255)\n",
        "    elif shape == 'triangle':\n",
        "        draw.polygon([(14,4), (24,24), (4,24)], outline=255, fill=255)\n",
        "    return np.array(img)\n",
        "\n",
        "shapes = ['circle', 'square', 'triangle']\n",
        "data = []\n",
        "labels = []\n",
        "\n",
        "# Generování 1000 obrázků pro každý tvar\n",
        "for label, shape in enumerate(shapes):\n",
        "    for _ in range(1000):\n",
        "        img = generate_shape(shape)\n",
        "        # Přidání náhodného šumu nebo transformace\n",
        "        img = img + np.random.randint(0, 30, (28,28))\n",
        "        img = np.clip(img, 0, 255)\n",
        "        data.append(img)\n",
        "        labels.append(label)\n",
        "\n",
        "data = np.array(data)\n",
        "labels = np.array(labels)\n",
        "\n",
        "# Rozdělení na trénovací a testovací sadu\n",
        "train_images, test_images, train_labels, test_labels = train_test_split(\n",
        "    data, labels, test_size=0.2, random_state=42, stratify=labels)\n"
      ],
      "metadata": {
        "id": "yzRoqznjK1zT"
      },
      "execution_count": null,
      "outputs": []
    },
    {
      "cell_type": "markdown",
      "source": [
        "Funkce **generate_shape**: Vytváří obrázek daného tvaru.\n",
        "\n",
        "Generování dat: Pro každý tvar vytvoříme 1000 obrázků s náhodnými variacemi.\n",
        "\n",
        "Rozdělení dat: Data rozdělíme na trénovací (80 %) a testovací (20 %) sadu."
      ],
      "metadata": {
        "id": "SB5o1EHJK6Xf"
      }
    },
    {
      "cell_type": "markdown",
      "source": [
        "# Přepracování dat"
      ],
      "metadata": {
        "id": "zYS6NDwCLKm2"
      }
    },
    {
      "cell_type": "code",
      "source": [
        "# Normalizace dat\n",
        "train_images = train_images / 255.0\n",
        "test_images = test_images / 255.0\n",
        "\n",
        "# Přidání kanálové dimenze\n",
        "train_images = train_images.reshape((train_images.shape[0], 28, 28, 1))\n",
        "test_images = test_images.reshape((test_images.shape[0], 28, 28, 1))\n"
      ],
      "metadata": {
        "id": "YXCrUDrsLHw3"
      },
      "execution_count": null,
      "outputs": []
    },
    {
      "cell_type": "markdown",
      "source": [
        "Normalizace: Škálování pixelů na interval [0,1][0,1].\n",
        "\n",
        "Reshape: Přizpůsobení tvaru dat pro CNN."
      ],
      "metadata": {
        "id": "WyCDb7sJLVms"
      }
    },
    {
      "cell_type": "markdown",
      "source": [
        "# Definice a kompilace modelu"
      ],
      "metadata": {
        "id": "uC_PcDbTLhRj"
      }
    },
    {
      "cell_type": "code",
      "source": [
        "from tensorflow.keras import layers, models\n",
        "\n",
        "# Definice modelu\n",
        "model = models.Sequential([\n",
        "    layers.Conv2D(16, (3,3), activation='relu', input_shape=(28,28,1)),\n",
        "    layers.MaxPooling2D((2,2)),\n",
        "    layers.Conv2D(32, (3,3), activation='relu'),\n",
        "    layers.MaxPooling2D((2,2)),\n",
        "    layers.Flatten(),\n",
        "    layers.Dense(32, activation='relu'),\n",
        "    layers.Dense(3, activation='softmax')  # 3 třídy: kruh, čtverec, trojúhelník\n",
        "])\n",
        "\n",
        "# Kompilace modelu\n",
        "model.compile(optimizer='adam',\n",
        "              loss='sparse_categorical_crossentropy',\n",
        "              metrics=['accuracy'])\n"
      ],
      "metadata": {
        "id": "o2zcRgahLeQj"
      },
      "execution_count": null,
      "outputs": []
    },
    {
      "cell_type": "markdown",
      "source": [
        "Architektura modelu: Lehčí model vzhledem k jednoduchosti dat.\n",
        "\n",
        "Výstupní vrstva: Má 3 neurony odpovídající třem třídám."
      ],
      "metadata": {
        "id": "myPmNoCULjx5"
      }
    },
    {
      "cell_type": "markdown",
      "source": [
        "# Trénování modelu"
      ],
      "metadata": {
        "id": "cToN2R5ILpC4"
      }
    },
    {
      "cell_type": "code",
      "source": [
        "test_loss, test_acc = model.evaluate(test_images, test_labels, verbose=2)\n",
        "print(f'\\nTestovací přesnost: {test_acc:.2f}')\n"
      ],
      "metadata": {
        "id": "9oB35QPSLroL"
      },
      "execution_count": null,
      "outputs": []
    },
    {
      "cell_type": "markdown",
      "source": [
        "pochs: 10 epoch pro dostatečné naučení modelu.\n",
        "\n",
        "Validation_split: 20 % trénovacích dat pro validaci během trénování."
      ],
      "metadata": {
        "id": "WFDO9ghKLtSh"
      }
    },
    {
      "cell_type": "markdown",
      "source": [
        "# Vyhodnocení modelu"
      ],
      "metadata": {
        "id": "O60M3zqiLwH3"
      }
    },
    {
      "cell_type": "code",
      "source": [
        "test_loss, test_acc = model.evaluate(test_images, test_labels, verbose=2)\n",
        "print(f'\\nTestovací přesnost: {test_acc:.2f}')\n"
      ],
      "metadata": {
        "id": "oaF1fmfQLyyJ"
      },
      "execution_count": null,
      "outputs": []
    },
    {
      "cell_type": "markdown",
      "source": [
        "Výsledek: Získáme přesnost modelu na testovací sadě."
      ],
      "metadata": {
        "id": "P9y864aeLyWb"
      }
    },
    {
      "cell_type": "markdown",
      "source": [
        "# Vizualizace výsledků"
      ],
      "metadata": {
        "id": "CN1X04duL3K1"
      }
    },
    {
      "cell_type": "code",
      "source": [
        "# Graf trénovací a validační přesnosti\n",
        "plt.figure(figsize=(8, 6))\n",
        "plt.plot(history.history['accuracy'], label='Trénovací přesnost')\n",
        "plt.plot(history.history['val_accuracy'], label='Validační přesnost')\n",
        "plt.xlabel('Epoka')\n",
        "plt.ylabel('Přesnost')\n",
        "plt.legend()\n",
        "plt.show()\n",
        "\n",
        "# Zobrazení několika predikcí\n",
        "import numpy as np\n",
        "\n",
        "predictions = model.predict(test_images)\n",
        "class_names = ['Circle', 'Square', 'Triangle']\n",
        "\n",
        "def plot_image(i, predictions_array, true_label, img):\n",
        "    true_label, img = true_label[i], img[i].reshape(28,28)\n",
        "    plt.grid(False)\n",
        "    plt.xticks([])\n",
        "    plt.yticks([])\n",
        "    plt.imshow(img, cmap=plt.cm.binary)\n",
        "    predicted_label = np.argmax(predictions_array[i])\n",
        "    if predicted_label == true_label:\n",
        "        color = 'blue'\n",
        "    else:\n",
        "        color = 'red'\n",
        "    plt.xlabel(f\"Predikce: {class_names[predicted_label]}\\nSkutečnost: {class_names[true_label]}\", color=color)\n",
        "\n",
        "num_rows = 3\n",
        "num_cols = 3\n",
        "plt.figure(figsize=(2*2*num_cols, 2*num_rows))\n",
        "for i in range(9):\n",
        "    plt.subplot(num_rows, num_cols, i+1)\n",
        "    plot_image(i, predictions, test_labels, test_images)\n",
        "plt.tight_layout()\n",
        "plt.show()\n"
      ],
      "metadata": {
        "id": "tPKBnxyHL59r"
      },
      "execution_count": null,
      "outputs": []
    },
    {
      "cell_type": "markdown",
      "source": [
        "Graf přesnosti: Ukazuje, jak se model učil během trénování.\n",
        "\n",
        "Zobrazení predikcí: Vizualizujeme 9 testovacích obrázků s predikovanými a skutečnými třídami.\n",
        "\n",
        "Testovací přesnost: Očekává se vysoká přesnost (blízko 100 %) vzhledem k jednoduchosti úlohy.\n",
        "\n",
        "Analýza chyb: Pokud model udělá chyby, můžeme je identifikovat pomocí vizualizací."
      ],
      "metadata": {
        "id": "Cz5ZIhUKL-Kp"
      }
    }
  ]
}